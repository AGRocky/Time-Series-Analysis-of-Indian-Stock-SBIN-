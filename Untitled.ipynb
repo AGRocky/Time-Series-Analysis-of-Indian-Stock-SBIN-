{
 "cells": [
  {
   "cell_type": "code",
   "execution_count": 1,
   "id": "e6b5a055-87ba-4de2-9892-3a7dfba59b38",
   "metadata": {},
   "outputs": [],
   "source": [
    "import pandas as pd\n",
    "import pandas_datareader.data as web\n",
    "import math\n",
    "import numpy as np\n",
    "import matplotlib.pyplot as plt"
   ]
  },
  {
   "cell_type": "code",
   "execution_count": 2,
   "id": "4f3f0698-7ecd-45ba-af3d-040c9b176c7a",
   "metadata": {},
   "outputs": [],
   "source": [
    "# df = web.DataReader('SBIN', data_source='yahoo')"
   ]
  },
  {
   "cell_type": "code",
   "execution_count": 3,
   "id": "101fb221-125f-45ec-b260-c1a8cf7d552a",
   "metadata": {},
   "outputs": [],
   "source": [
    "# df = 'https://query1.finance.yahoo.com/v7/finance/download/SBIN.NS?period1=1641168000&period2=1673913600&interval=1d&events=history&includeAdjustedClose=true'"
   ]
  },
  {
   "cell_type": "code",
   "execution_count": 4,
   "id": "d50d2481-d9b7-40cf-beef-776810b49173",
   "metadata": {},
   "outputs": [],
   "source": [
    "df = pd.read_csv('SBIN.NS (4).csv')"
   ]
  },
  {
   "cell_type": "code",
   "execution_count": 5,
   "id": "fceb858c-1a3e-4bbe-940f-200b23511e89",
   "metadata": {},
   "outputs": [
    {
     "data": {
      "text/html": [
       "<div>\n",
       "<style scoped>\n",
       "    .dataframe tbody tr th:only-of-type {\n",
       "        vertical-align: middle;\n",
       "    }\n",
       "\n",
       "    .dataframe tbody tr th {\n",
       "        vertical-align: top;\n",
       "    }\n",
       "\n",
       "    .dataframe thead th {\n",
       "        text-align: right;\n",
       "    }\n",
       "</style>\n",
       "<table border=\"1\" class=\"dataframe\">\n",
       "  <thead>\n",
       "    <tr style=\"text-align: right;\">\n",
       "      <th></th>\n",
       "      <th>Date</th>\n",
       "      <th>Open</th>\n",
       "      <th>High</th>\n",
       "      <th>Low</th>\n",
       "      <th>Close</th>\n",
       "      <th>Adj Close</th>\n",
       "      <th>Volume</th>\n",
       "    </tr>\n",
       "  </thead>\n",
       "  <tbody>\n",
       "    <tr>\n",
       "      <th>0</th>\n",
       "      <td>2018-01-01</td>\n",
       "      <td>310.600006</td>\n",
       "      <td>312.750000</td>\n",
       "      <td>306.299988</td>\n",
       "      <td>307.100006</td>\n",
       "      <td>299.614807</td>\n",
       "      <td>12182400</td>\n",
       "    </tr>\n",
       "    <tr>\n",
       "      <th>1</th>\n",
       "      <td>2018-01-02</td>\n",
       "      <td>309.000000</td>\n",
       "      <td>309.000000</td>\n",
       "      <td>301.350006</td>\n",
       "      <td>303.250000</td>\n",
       "      <td>295.858673</td>\n",
       "      <td>14797364</td>\n",
       "    </tr>\n",
       "    <tr>\n",
       "      <th>2</th>\n",
       "      <td>2018-01-03</td>\n",
       "      <td>305.299988</td>\n",
       "      <td>306.450012</td>\n",
       "      <td>302.149994</td>\n",
       "      <td>302.850006</td>\n",
       "      <td>295.468414</td>\n",
       "      <td>13857373</td>\n",
       "    </tr>\n",
       "    <tr>\n",
       "      <th>3</th>\n",
       "      <td>2018-01-04</td>\n",
       "      <td>304.500000</td>\n",
       "      <td>310.200012</td>\n",
       "      <td>303.149994</td>\n",
       "      <td>308.500000</td>\n",
       "      <td>300.980682</td>\n",
       "      <td>24517099</td>\n",
       "    </tr>\n",
       "    <tr>\n",
       "      <th>4</th>\n",
       "      <td>2018-01-05</td>\n",
       "      <td>311.399994</td>\n",
       "      <td>311.399994</td>\n",
       "      <td>305.600006</td>\n",
       "      <td>306.350006</td>\n",
       "      <td>298.883118</td>\n",
       "      <td>14580575</td>\n",
       "    </tr>\n",
       "  </tbody>\n",
       "</table>\n",
       "</div>"
      ],
      "text/plain": [
       "         Date        Open        High         Low       Close   Adj Close  \\\n",
       "0  2018-01-01  310.600006  312.750000  306.299988  307.100006  299.614807   \n",
       "1  2018-01-02  309.000000  309.000000  301.350006  303.250000  295.858673   \n",
       "2  2018-01-03  305.299988  306.450012  302.149994  302.850006  295.468414   \n",
       "3  2018-01-04  304.500000  310.200012  303.149994  308.500000  300.980682   \n",
       "4  2018-01-05  311.399994  311.399994  305.600006  306.350006  298.883118   \n",
       "\n",
       "     Volume  \n",
       "0  12182400  \n",
       "1  14797364  \n",
       "2  13857373  \n",
       "3  24517099  \n",
       "4  14580575  "
      ]
     },
     "execution_count": 5,
     "metadata": {},
     "output_type": "execute_result"
    }
   ],
   "source": [
    "df.head(5)"
   ]
  },
  {
   "cell_type": "code",
   "execution_count": 6,
   "id": "131fce0f-879f-498f-bc6a-6050ca288d84",
   "metadata": {
    "tags": []
   },
   "outputs": [
    {
     "data": {
      "text/html": [
       "<div>\n",
       "<style scoped>\n",
       "    .dataframe tbody tr th:only-of-type {\n",
       "        vertical-align: middle;\n",
       "    }\n",
       "\n",
       "    .dataframe tbody tr th {\n",
       "        vertical-align: top;\n",
       "    }\n",
       "\n",
       "    .dataframe thead th {\n",
       "        text-align: right;\n",
       "    }\n",
       "</style>\n",
       "<table border=\"1\" class=\"dataframe\">\n",
       "  <thead>\n",
       "    <tr style=\"text-align: right;\">\n",
       "      <th></th>\n",
       "      <th>Date</th>\n",
       "      <th>Open</th>\n",
       "      <th>High</th>\n",
       "      <th>Low</th>\n",
       "      <th>Close</th>\n",
       "      <th>Adj Close</th>\n",
       "      <th>Volume</th>\n",
       "    </tr>\n",
       "  </thead>\n",
       "  <tbody>\n",
       "    <tr>\n",
       "      <th>1243</th>\n",
       "      <td>2023-01-11</td>\n",
       "      <td>596.450012</td>\n",
       "      <td>599.500000</td>\n",
       "      <td>592.250000</td>\n",
       "      <td>596.700012</td>\n",
       "      <td>596.700012</td>\n",
       "      <td>7419630</td>\n",
       "    </tr>\n",
       "    <tr>\n",
       "      <th>1244</th>\n",
       "      <td>2023-01-12</td>\n",
       "      <td>597.900024</td>\n",
       "      <td>597.900024</td>\n",
       "      <td>590.099976</td>\n",
       "      <td>594.900024</td>\n",
       "      <td>594.900024</td>\n",
       "      <td>8183715</td>\n",
       "    </tr>\n",
       "    <tr>\n",
       "      <th>1245</th>\n",
       "      <td>2023-01-13</td>\n",
       "      <td>597.900024</td>\n",
       "      <td>602.900024</td>\n",
       "      <td>593.650024</td>\n",
       "      <td>600.099976</td>\n",
       "      <td>600.099976</td>\n",
       "      <td>7877610</td>\n",
       "    </tr>\n",
       "    <tr>\n",
       "      <th>1246</th>\n",
       "      <td>2023-01-16</td>\n",
       "      <td>603.000000</td>\n",
       "      <td>606.099976</td>\n",
       "      <td>600.599976</td>\n",
       "      <td>603.000000</td>\n",
       "      <td>603.000000</td>\n",
       "      <td>5483191</td>\n",
       "    </tr>\n",
       "    <tr>\n",
       "      <th>1247</th>\n",
       "      <td>2023-01-17</td>\n",
       "      <td>603.000000</td>\n",
       "      <td>606.000000</td>\n",
       "      <td>586.049988</td>\n",
       "      <td>592.950012</td>\n",
       "      <td>592.950012</td>\n",
       "      <td>13461999</td>\n",
       "    </tr>\n",
       "  </tbody>\n",
       "</table>\n",
       "</div>"
      ],
      "text/plain": [
       "            Date        Open        High         Low       Close   Adj Close  \\\n",
       "1243  2023-01-11  596.450012  599.500000  592.250000  596.700012  596.700012   \n",
       "1244  2023-01-12  597.900024  597.900024  590.099976  594.900024  594.900024   \n",
       "1245  2023-01-13  597.900024  602.900024  593.650024  600.099976  600.099976   \n",
       "1246  2023-01-16  603.000000  606.099976  600.599976  603.000000  603.000000   \n",
       "1247  2023-01-17  603.000000  606.000000  586.049988  592.950012  592.950012   \n",
       "\n",
       "        Volume  \n",
       "1243   7419630  \n",
       "1244   8183715  \n",
       "1245   7877610  \n",
       "1246   5483191  \n",
       "1247  13461999  "
      ]
     },
     "execution_count": 6,
     "metadata": {},
     "output_type": "execute_result"
    }
   ],
   "source": [
    "df.tail(5)"
   ]
  },
  {
   "cell_type": "code",
   "execution_count": 7,
   "id": "ea34f433-50ee-4308-a05f-3d738c2de201",
   "metadata": {},
   "outputs": [],
   "source": [
    "df1=df.reset_index()['Close']\n"
   ]
  },
  {
   "cell_type": "code",
   "execution_count": 8,
   "id": "99066e71-a635-4837-897c-46e847e6ee13",
   "metadata": {},
   "outputs": [
    {
     "data": {
      "text/plain": [
       "0       307.100006\n",
       "1       303.250000\n",
       "2       302.850006\n",
       "3       308.500000\n",
       "4       306.350006\n",
       "           ...    \n",
       "1243    596.700012\n",
       "1244    594.900024\n",
       "1245    600.099976\n",
       "1246    603.000000\n",
       "1247    592.950012\n",
       "Name: Close, Length: 1248, dtype: float64"
      ]
     },
     "execution_count": 8,
     "metadata": {},
     "output_type": "execute_result"
    }
   ],
   "source": [
    "df1\n"
   ]
  },
  {
   "cell_type": "code",
   "execution_count": 9,
   "id": "2df262dd-5e67-418d-9d09-1adb21d1706e",
   "metadata": {},
   "outputs": [
    {
     "data": {
      "text/plain": [
       "[<matplotlib.lines.Line2D at 0x26992baaa00>]"
      ]
     },
     "execution_count": 9,
     "metadata": {},
     "output_type": "execute_result"
    },
    {
     "data": {
      "image/png": "[encoded data removed]",
      "text/plain": [
       "<Figure size 432x288 with 1 Axes>"
      ]
     },
     "metadata": {
      "needs_background": "light"
     },
     "output_type": "display_data"
    }
   ],
   "source": [
    "import matplotlib.pyplot as plt\n",
    "plt.plot(df1)"
   ]
  },
  {
   "cell_type": "code",
   "execution_count": 10,
   "id": "28381257-8369-4cef-8a26-33477f8c6962",
   "metadata": {},
   "outputs": [
    {
     "data": {
      "text/plain": [
       "(1248,)"
      ]
     },
     "execution_count": 10,
     "metadata": {},
     "output_type": "execute_result"
    }
   ],
   "source": [
    "df1.shape"
   ]
  },
  {
   "cell_type": "code",
   "execution_count": 11,
   "id": "b889dc5b-89a2-46c2-9460-b21ab74a563b",
   "metadata": {},
   "outputs": [],
   "source": [
    "### LSTM are sensitive to the scale of the data. so we apply MinMax scaler \n",
    "from sklearn.preprocessing import MinMaxScaler\n",
    "scaler=MinMaxScaler(feature_range=(0,1))\n",
    "df1=scaler.fit_transform(np.array(df1).reshape(-1,1))"
   ]
  },
  {
   "cell_type": "code",
   "execution_count": 12,
   "id": "29cf1888-49fd-4499-a54a-3388f25fc7b1",
   "metadata": {
    "tags": []
   },
   "outputs": [
    {
     "name": "stdout",
     "output_type": "stream",
     "text": [
      "[[0.32918993]\n",
      " [0.32107868]\n",
      " [0.32023597]\n",
      " [0.33213946]\n",
      " [0.32760982]\n",
      " [0.32645104]\n",
      " [0.32329081]\n",
      " [0.31654904]\n",
      " [0.31886655]\n",
      " [0.31897187]\n",
      " [0.31970926]\n",
      " [0.30612028]\n",
      " [0.32918993]\n",
      " [0.32107868]\n",
      " [0.33371957]\n",
      " [0.32792583]\n",
      " [0.3523649 ]\n",
      " [0.3772253 ]\n",
      " [0.34193614]\n",
      " [0.33972401]]\n"
     ]
    }
   ],
   "source": [
    "print(df1[:20])"
   ]
  },
  {
   "cell_type": "code",
   "execution_count": 13,
   "id": "2cc423d5-6f9d-4cf7-bab7-08854c9e8051",
   "metadata": {},
   "outputs": [],
   "source": [
    "##splitting dataset into train and test split\n",
    "training_size=int(len(df1)*0.65)\n",
    "test_size=len(df1)-training_size\n",
    "train_data,test_data=df1[0:training_size,:],df1[training_size:len(df1),:1]\n"
   ]
  },
  {
   "cell_type": "code",
   "execution_count": 14,
   "id": "7a4f7536-320a-410e-9a37-245857689aef",
   "metadata": {},
   "outputs": [
    {
     "data": {
      "text/plain": [
       "(811, 437)"
      ]
     },
     "execution_count": 14,
     "metadata": {},
     "output_type": "execute_result"
    }
   ],
   "source": [
    "training_size,test_size\n"
   ]
  },
  {
   "cell_type": "code",
   "execution_count": 15,
   "id": "3b013fb1-f82d-4b45-9929-2dac857b5509",
   "metadata": {
    "tags": []
   },
   "outputs": [
    {
     "data": {
      "text/plain": [
       "array([[0.32918993],\n",
       "       [0.32107868],\n",
       "       [0.32023597],\n",
       "       [0.33213946],\n",
       "       [0.32760982],\n",
       "       [0.32645104],\n",
       "       [0.32329081],\n",
       "       [0.31654904],\n",
       "       [0.31886655],\n",
       "       [0.31897187],\n",
       "       [0.31970926],\n",
       "       [0.30612028],\n",
       "       [0.32918993],\n",
       "       [0.32107868],\n",
       "       [0.33371957],\n",
       "       [0.32792583],\n",
       "       [0.3523649 ],\n",
       "       [0.3772253 ],\n",
       "       [0.34193614],\n",
       "       [0.33972401]])"
      ]
     },
     "execution_count": 15,
     "metadata": {},
     "output_type": "execute_result"
    }
   ],
   "source": [
    "train_data[:20]\n"
   ]
  },
  {
   "cell_type": "code",
   "execution_count": 16,
   "id": "bb36e779-bbd5-4b92-8d1b-4c1663f1e7d2",
   "metadata": {},
   "outputs": [],
   "source": [
    "import numpy\n",
    "# convert an array of values into a dataset matrix\n",
    "def create_dataset(dataset, time_step=1):\n",
    "    dataX, dataY = [], []\n",
    "    for i in range(len(dataset)-time_step-1):\n",
    "        a = dataset[i:(i+time_step), 0]   ###i=0, 0,1,2,3-----99   100 \n",
    "        dataX.append(a)\n",
    "        dataY.append(dataset[i + time_step, 0])\n",
    "    return numpy.array(dataX), numpy.array(dataY)"
   ]
  },
  {
   "cell_type": "code",
   "execution_count": 17,
   "id": "9a93adf8-d33e-4449-b8fd-ecec2a45b2ac",
   "metadata": {},
   "outputs": [],
   "source": [
    "# reshape into X=t,t+1,t+2,t+3 and Y=t+4\n",
    "time_step = 100\n",
    "X_train, y_train = create_dataset(train_data, time_step)\n",
    "X_test, ytest = create_dataset(test_data, time_step)"
   ]
  },
  {
   "cell_type": "code",
   "execution_count": 18,
   "id": "f3ff7b39-7c8f-415c-b62a-3ca533cba051",
   "metadata": {},
   "outputs": [
    {
     "name": "stdout",
     "output_type": "stream",
     "text": [
      "(710, 100)\n",
      "(710,)\n"
     ]
    },
    {
     "data": {
      "text/plain": [
       "(None, None)"
      ]
     },
     "execution_count": 18,
     "metadata": {},
     "output_type": "execute_result"
    }
   ],
   "source": [
    "print(X_train.shape), print(y_train.shape)\n"
   ]
  },
  {
   "cell_type": "code",
   "execution_count": 19,
   "id": "1c9b73ef-e8ae-479c-94c6-e75d634990b8",
   "metadata": {},
   "outputs": [
    {
     "name": "stdout",
     "output_type": "stream",
     "text": [
      "(336, 100)\n",
      "(336,)\n"
     ]
    },
    {
     "data": {
      "text/plain": [
       "(None, None)"
      ]
     },
     "execution_count": 19,
     "metadata": {},
     "output_type": "execute_result"
    }
   ],
   "source": [
    "print(X_test.shape), print(ytest.shape)\n"
   ]
  },
  {
   "cell_type": "code",
   "execution_count": 20,
   "id": "2832a942-6b93-4b97-a65d-e4ddbe71c1d3",
   "metadata": {},
   "outputs": [],
   "source": [
    "# reshape input to be [samples, time steps, features] which is required for LSTM\n",
    "X_train =X_train.reshape(X_train.shape[0],X_train.shape[1] , 1)\n",
    "X_test = X_test.reshape(X_test.shape[0],X_test.shape[1] , 1)"
   ]
  },
  {
   "cell_type": "code",
   "execution_count": 21,
   "id": "4c463a42-f5a8-46e4-bb76-ef9b5b461c4d",
   "metadata": {},
   "outputs": [],
   "source": [
    " #Create the Stacked LSTM model\n",
    "from tensorflow.keras.models import Sequential\n",
    "from tensorflow.keras.layers import Dense\n",
    "from tensorflow.keras.layers import LSTM"
   ]
  },
  {
   "cell_type": "code",
   "execution_count": 22,
   "id": "f1020937-32f8-47b6-b8b9-8631099c6212",
   "metadata": {},
   "outputs": [],
   "source": [
    "model=Sequential()\n",
    "model.add(LSTM(50,return_sequences=True,input_shape=(100,1)))\n",
    "model.add(LSTM(50,return_sequences=True))\n",
    "model.add(LSTM(50))\n",
    "model.add(Dense(1))\n",
    "model.compile(loss='mean_squared_error',optimizer='adam')"
   ]
  },
  {
   "cell_type": "code",
   "execution_count": 23,
   "id": "3eedbd7b-28e6-4068-93c3-27dec36950d1",
   "metadata": {},
   "outputs": [
    {
     "name": "stdout",
     "output_type": "stream",
     "text": [
      "Model: \"sequential\"\n",
      "_________________________________________________________________\n",
      " Layer (type)                Output Shape              Param #   \n",
      "=================================================================\n",
      " lstm (LSTM)                 (None, 100, 50)           10400     \n",
      "                                                                 \n",
      " lstm_1 (LSTM)               (None, 100, 50)           20200     \n",
      "                                                                 \n",
      " lstm_2 (LSTM)               (None, 50)                20200     \n",
      "                                                                 \n",
      " dense (Dense)               (None, 1)                 51        \n",
      "                                                                 \n",
      "=================================================================\n",
      "Total params: 50,851\n",
      "Trainable params: 50,851\n",
      "Non-trainable params: 0\n",
      "_________________________________________________________________\n"
     ]
    }
   ],
   "source": [
    "model.summary()"
   ]
  },
  {
   "cell_type": "code",
   "execution_count": 24,
   "id": "e31b37a6-6102-449b-9b7f-322e07036172",
   "metadata": {},
   "outputs": [
    {
     "name": "stdout",
     "output_type": "stream",
     "text": [
      "Epoch 1/10\n",
      "23/23 [==============================] - 14s 289ms/step - loss: 0.0128 - val_loss: 0.0122\n",
      "Epoch 2/10\n",
      "23/23 [==============================] - 5s 201ms/step - loss: 0.0032 - val_loss: 0.0143\n",
      "Epoch 3/10\n",
      "23/23 [==============================] - 5s 214ms/step - loss: 0.0022 - val_loss: 0.0021\n",
      "Epoch 4/10\n",
      "23/23 [==============================] - 5s 208ms/step - loss: 0.0018 - val_loss: 0.0040\n",
      "Epoch 5/10\n",
      "23/23 [==============================] - 5s 198ms/step - loss: 0.0015 - val_loss: 0.0070\n",
      "Epoch 6/10\n",
      "23/23 [==============================] - 5s 196ms/step - loss: 0.0014 - val_loss: 0.0047\n",
      "Epoch 7/10\n",
      "23/23 [==============================] - 5s 198ms/step - loss: 0.0014 - val_loss: 0.0067\n",
      "Epoch 8/10\n",
      "23/23 [==============================] - 5s 198ms/step - loss: 0.0011 - val_loss: 0.0156\n",
      "Epoch 9/10\n",
      "23/23 [==============================] - 5s 198ms/step - loss: 0.0012 - val_loss: 0.0151\n",
      "Epoch 10/10\n",
      "23/23 [==============================] - 5s 199ms/step - loss: 0.0011 - val_loss: 0.0227\n"
     ]
    },
    {
     "data": {
      "text/plain": [
       "<keras.callbacks.History at 0x269a5009eb0>"
      ]
     },
     "execution_count": 24,
     "metadata": {},
     "output_type": "execute_result"
    }
   ],
   "source": [
    "model.fit(X_train,y_train,validation_data=(X_test,ytest),epochs=10,batch_size=32,verbose=1)\n"
   ]
  },
  {
   "cell_type": "code",
   "execution_count": 25,
   "id": "669506eb-54fe-4972-b19b-06c7cc5b68cc",
   "metadata": {},
   "outputs": [],
   "source": [
    "### Lets Do the prediction and check performance metrics\n",
    "train_predict=model.predict(X_train)\n",
    "test_predict=model.predict(X_test)"
   ]
  },
  {
   "cell_type": "code",
   "execution_count": 26,
   "id": "4672ccb3-6565-4a70-bedf-5ba216b55bad",
   "metadata": {},
   "outputs": [],
   "source": [
    "##Transformback to original form\n",
    "train_predict=scaler.inverse_transform(train_predict)\n",
    "test_predict=scaler.inverse_transform(test_predict)"
   ]
  },
  {
   "cell_type": "code",
   "execution_count": 27,
   "id": "5fe8a4ce-9729-49ff-a616-e2bef31f75ec",
   "metadata": {},
   "outputs": [
    {
     "data": {
      "text/plain": [
       "271.7894593722306"
      ]
     },
     "execution_count": 27,
     "metadata": {},
     "output_type": "execute_result"
    }
   ],
   "source": [
    "### Calculate RMSE performance metrics\n",
    "import math\n",
    "from sklearn.metrics import mean_squared_error\n",
    "math.sqrt(mean_squared_error(y_train,train_predict))"
   ]
  },
  {
   "cell_type": "code",
   "execution_count": 28,
   "id": "40f185e0-ee20-4807-970d-23c3599c88fe",
   "metadata": {},
   "outputs": [
    {
     "data": {
      "text/plain": [
       "446.8257699207263"
      ]
     },
     "execution_count": 28,
     "metadata": {},
     "output_type": "execute_result"
    }
   ],
   "source": [
    "### Test Data RMSE\n",
    "math.sqrt(mean_squared_error(ytest,test_predict))"
   ]
  },
  {
   "cell_type": "code",
   "execution_count": 29,
   "id": "7d9ad34b-c8f4-41e7-972c-99ee8bb8b7fc",
   "metadata": {},
   "outputs": [
    {
     "data": {
      "image/png": "[encoded data removed]",
      "text/plain": [
       "<Figure size 432x288 with 1 Axes>"
      ]
     },
     "metadata": {
      "needs_background": "light"
     },
     "output_type": "display_data"
    }
   ],
   "source": [
    "### Plotting \n",
    "# shift train predictions for plotting\n",
    "look_back=100\n",
    "trainPredictPlot = numpy.empty_like(df1)\n",
    "trainPredictPlot[:, :] = np.nan\n",
    "trainPredictPlot[look_back:len(train_predict)+look_back, :] = train_predict\n",
    "# shift test predictions for plotting\n",
    "testPredictPlot = numpy.empty_like(df1)\n",
    "testPredictPlot[:, :] = numpy.nan\n",
    "testPredictPlot[len(train_predict)+(look_back*2)+1:len(df1)-1, :] = test_predict\n",
    "# plot baseline and predictions\n",
    "plt.plot(scaler.inverse_transform(df1))\n",
    "plt.plot(trainPredictPlot)\n",
    "plt.plot(testPredictPlot)\n",
    "plt.show()"
   ]
  },
  {
   "cell_type": "code",
   "execution_count": 30,
   "id": "c633368c-3231-490a-8b5a-44f55bb785c9",
   "metadata": {},
   "outputs": [
    {
     "data": {
      "text/plain": [
       "437"
      ]
     },
     "execution_count": 30,
     "metadata": {},
     "output_type": "execute_result"
    }
   ],
   "source": [
    "len(test_data)"
   ]
  },
  {
   "cell_type": "code",
   "execution_count": 31,
   "id": "40a5ca30-2c32-4573-920c-0bbccb98b294",
   "metadata": {},
   "outputs": [
    {
     "data": {
      "text/plain": [
       "(1, 100)"
      ]
     },
     "execution_count": 31,
     "metadata": {},
     "output_type": "execute_result"
    }
   ],
   "source": [
    "x_input=test_data[337:].reshape(1,-1)\n",
    "x_input.shape"
   ]
  },
  {
   "cell_type": "code",
   "execution_count": 32,
   "id": "817af815-35ee-4edf-a7d0-75fcd2c7be7d",
   "metadata": {},
   "outputs": [],
   "source": [
    "temp_input=list(x_input)\n",
    "temp_input=temp_input[0].tolist()"
   ]
  },
  {
   "cell_type": "code",
   "execution_count": 33,
   "id": "c2d6c129-33ab-49a7-b929-2251edb42c44",
   "metadata": {},
   "outputs": [
    {
     "data": {
      "text/plain": [
       "[0.7785737336383491,\n",
       " 0.785736830747753,\n",
       " 0.7668808060703356,\n",
       " 0.8014326320627743,\n",
       " 0.8057515787095952,\n",
       " 0.8129148022279338,\n",
       " 0.8175498217745685,\n",
       " 0.8152322487967838,\n",
       " 0.8048034864190896,\n",
       " 0.8296640113304206]"
      ]
     },
     "execution_count": 33,
     "metadata": {},
     "output_type": "execute_result"
    }
   ],
   "source": [
    "temp_input[:10]"
   ]
  },
  {
   "cell_type": "code",
   "execution_count": 34,
   "id": "78acef74-6410-4f8c-8b49-d91a1fc24f22",
   "metadata": {},
   "outputs": [
    {
     "name": "stdout",
     "output_type": "stream",
     "text": [
      "[0.7407022]\n",
      "101\n",
      " Day 1 input \n",
      " [0.78573683 0.76688081 0.80143263 0.80575158 0.8129148  0.81754982\n",
      " 0.81523225 0.80480349 0.82966401 0.84799321 0.85125887 0.85778995\n",
      " 0.88675866 0.88760144 0.86579582 0.88781207 0.89160431 0.88243972\n",
      " 0.87738331 0.84219946 0.82681973 0.81249341 0.78794896 0.78141788\n",
      " 0.80006315 0.77720425 0.80448754 0.81417884 0.7992205  0.80037922\n",
      " 0.79332144 0.80680499 0.78078586 0.79290005 0.8275572  0.8671653\n",
      " 0.84809865 0.85231228 0.86379432 0.88412514 0.90108498 0.90340256\n",
      " 0.88465185 0.89107761 0.89760881 0.89118292 0.91446334 0.93352999\n",
      " 0.97608769 0.97903716 0.95839039 0.94901504 0.9305804  0.94806695\n",
      " 0.9457495  0.9442747  0.95196463 0.9422732  0.94438002 0.96239339\n",
      " 0.96597488 0.96186669 0.96439477 0.96428945 0.95143793 0.96334136\n",
      " 0.96218264 0.98272409 0.96513223 0.96112923 0.97082065 0.98103866\n",
      " 0.97377012 0.98156536 1.         0.97987994 0.95333398 0.95565156\n",
      " 0.95565156 0.93237127 0.93237127 0.891499   0.94016639 0.9502792\n",
      " 0.94848833 0.9711366  0.9751396  0.97197938 0.97240077 0.95723167\n",
      " 0.95702091 0.94764568 0.96249871 0.9360582  0.93932374 0.93553149\n",
      " 0.94648683 0.95259665 0.93142318 0.74070221]\n",
      "\n",
      " Day 1 output [[0.72940606]]\n",
      "\n",
      " Day 2 input \n",
      " [0.76688081 0.80143263 0.80575158 0.8129148  0.81754982 0.81523225\n",
      " 0.80480349 0.82966401 0.84799321 0.85125887 0.85778995 0.88675866\n",
      " 0.88760144 0.86579582 0.88781207 0.89160431 0.88243972 0.87738331\n",
      " 0.84219946 0.82681973 0.81249341 0.78794896 0.78141788 0.80006315\n",
      " 0.77720425 0.80448754 0.81417884 0.7992205  0.80037922 0.79332144\n",
      " 0.80680499 0.78078586 0.79290005 0.8275572  0.8671653  0.84809865\n",
      " 0.85231228 0.86379432 0.88412514 0.90108498 0.90340256 0.88465185\n",
      " 0.89107761 0.89760881 0.89118292 0.91446334 0.93352999 0.97608769\n",
      " 0.97903716 0.95839039 0.94901504 0.9305804  0.94806695 0.9457495\n",
      " 0.9442747  0.95196463 0.9422732  0.94438002 0.96239339 0.96597488\n",
      " 0.96186669 0.96439477 0.96428945 0.95143793 0.96334136 0.96218264\n",
      " 0.98272409 0.96513223 0.96112923 0.97082065 0.98103866 0.97377012\n",
      " 0.98156536 1.         0.97987994 0.95333398 0.95565156 0.95565156\n",
      " 0.93237127 0.93237127 0.891499   0.94016639 0.9502792  0.94848833\n",
      " 0.9711366  0.9751396  0.97197938 0.97240077 0.95723167 0.95702091\n",
      " 0.94764568 0.96249871 0.9360582  0.93932374 0.93553149 0.94648683\n",
      " 0.95259665 0.93142318 0.74070221 0.72940606]\n",
      "\n",
      " Day 2 output [[0.70914596]]\n",
      "\n",
      " Day 3 input \n",
      " [0.80143263 0.80575158 0.8129148  0.81754982 0.81523225 0.80480349\n",
      " 0.82966401 0.84799321 0.85125887 0.85778995 0.88675866 0.88760144\n",
      " 0.86579582 0.88781207 0.89160431 0.88243972 0.87738331 0.84219946\n",
      " 0.82681973 0.81249341 0.78794896 0.78141788 0.80006315 0.77720425\n",
      " 0.80448754 0.81417884 0.7992205  0.80037922 0.79332144 0.80680499\n",
      " 0.78078586 0.79290005 0.8275572  0.8671653  0.84809865 0.85231228\n",
      " 0.86379432 0.88412514 0.90108498 0.90340256 0.88465185 0.89107761\n",
      " 0.89760881 0.89118292 0.91446334 0.93352999 0.97608769 0.97903716\n",
      " 0.95839039 0.94901504 0.9305804  0.94806695 0.9457495  0.9442747\n",
      " 0.95196463 0.9422732  0.94438002 0.96239339 0.96597488 0.96186669\n",
      " 0.96439477 0.96428945 0.95143793 0.96334136 0.96218264 0.98272409\n",
      " 0.96513223 0.96112923 0.97082065 0.98103866 0.97377012 0.98156536\n",
      " 1.         0.97987994 0.95333398 0.95565156 0.95565156 0.93237127\n",
      " 0.93237127 0.891499   0.94016639 0.9502792  0.94848833 0.9711366\n",
      " 0.9751396  0.97197938 0.97240077 0.95723167 0.95702091 0.94764568\n",
      " 0.96249871 0.9360582  0.93932374 0.93553149 0.94648683 0.95259665\n",
      " 0.93142318 0.74070221 0.72940606 0.70914596]\n",
      "\n",
      " Day 3 output [[0.6811618]]\n",
      "\n",
      " Day 4 input \n",
      " [0.80575158 0.8129148  0.81754982 0.81523225 0.80480349 0.82966401\n",
      " 0.84799321 0.85125887 0.85778995 0.88675866 0.88760144 0.86579582\n",
      " 0.88781207 0.89160431 0.88243972 0.87738331 0.84219946 0.82681973\n",
      " 0.81249341 0.78794896 0.78141788 0.80006315 0.77720425 0.80448754\n",
      " 0.81417884 0.7992205  0.80037922 0.79332144 0.80680499 0.78078586\n",
      " 0.79290005 0.8275572  0.8671653  0.84809865 0.85231228 0.86379432\n",
      " 0.88412514 0.90108498 0.90340256 0.88465185 0.89107761 0.89760881\n",
      " 0.89118292 0.91446334 0.93352999 0.97608769 0.97903716 0.95839039\n",
      " 0.94901504 0.9305804  0.94806695 0.9457495  0.9442747  0.95196463\n",
      " 0.9422732  0.94438002 0.96239339 0.96597488 0.96186669 0.96439477\n",
      " 0.96428945 0.95143793 0.96334136 0.96218264 0.98272409 0.96513223\n",
      " 0.96112923 0.97082065 0.98103866 0.97377012 0.98156536 1.\n",
      " 0.97987994 0.95333398 0.95565156 0.95565156 0.93237127 0.93237127\n",
      " 0.891499   0.94016639 0.9502792  0.94848833 0.9711366  0.9751396\n",
      " 0.97197938 0.97240077 0.95723167 0.95702091 0.94764568 0.96249871\n",
      " 0.9360582  0.93932374 0.93553149 0.94648683 0.95259665 0.93142318\n",
      " 0.74070221 0.72940606 0.70914596 0.68116182]\n",
      "\n",
      " Day 4 output [[0.64734256]]\n",
      "\n",
      " Day 5 input \n",
      " [0.8129148  0.81754982 0.81523225 0.80480349 0.82966401 0.84799321\n",
      " 0.85125887 0.85778995 0.88675866 0.88760144 0.86579582 0.88781207\n",
      " 0.89160431 0.88243972 0.87738331 0.84219946 0.82681973 0.81249341\n",
      " 0.78794896 0.78141788 0.80006315 0.77720425 0.80448754 0.81417884\n",
      " 0.7992205  0.80037922 0.79332144 0.80680499 0.78078586 0.79290005\n",
      " 0.8275572  0.8671653  0.84809865 0.85231228 0.86379432 0.88412514\n",
      " 0.90108498 0.90340256 0.88465185 0.89107761 0.89760881 0.89118292\n",
      " 0.91446334 0.93352999 0.97608769 0.97903716 0.95839039 0.94901504\n",
      " 0.9305804  0.94806695 0.9457495  0.9442747  0.95196463 0.9422732\n",
      " 0.94438002 0.96239339 0.96597488 0.96186669 0.96439477 0.96428945\n",
      " 0.95143793 0.96334136 0.96218264 0.98272409 0.96513223 0.96112923\n",
      " 0.97082065 0.98103866 0.97377012 0.98156536 1.         0.97987994\n",
      " 0.95333398 0.95565156 0.95565156 0.93237127 0.93237127 0.891499\n",
      " 0.94016639 0.9502792  0.94848833 0.9711366  0.9751396  0.97197938\n",
      " 0.97240077 0.95723167 0.95702091 0.94764568 0.96249871 0.9360582\n",
      " 0.93932374 0.93553149 0.94648683 0.95259665 0.93142318 0.74070221\n",
      " 0.72940606 0.70914596 0.68116182 0.64734256]\n",
      "\n",
      " Day 5 output [[0.6095848]]\n",
      "\n",
      " Day 6 input \n",
      " [0.81754982 0.81523225 0.80480349 0.82966401 0.84799321 0.85125887\n",
      " 0.85778995 0.88675866 0.88760144 0.86579582 0.88781207 0.89160431\n",
      " 0.88243972 0.87738331 0.84219946 0.82681973 0.81249341 0.78794896\n",
      " 0.78141788 0.80006315 0.77720425 0.80448754 0.81417884 0.7992205\n",
      " 0.80037922 0.79332144 0.80680499 0.78078586 0.79290005 0.8275572\n",
      " 0.8671653  0.84809865 0.85231228 0.86379432 0.88412514 0.90108498\n",
      " 0.90340256 0.88465185 0.89107761 0.89760881 0.89118292 0.91446334\n",
      " 0.93352999 0.97608769 0.97903716 0.95839039 0.94901504 0.9305804\n",
      " 0.94806695 0.9457495  0.9442747  0.95196463 0.9422732  0.94438002\n",
      " 0.96239339 0.96597488 0.96186669 0.96439477 0.96428945 0.95143793\n",
      " 0.96334136 0.96218264 0.98272409 0.96513223 0.96112923 0.97082065\n",
      " 0.98103866 0.97377012 0.98156536 1.         0.97987994 0.95333398\n",
      " 0.95565156 0.95565156 0.93237127 0.93237127 0.891499   0.94016639\n",
      " 0.9502792  0.94848833 0.9711366  0.9751396  0.97197938 0.97240077\n",
      " 0.95723167 0.95702091 0.94764568 0.96249871 0.9360582  0.93932374\n",
      " 0.93553149 0.94648683 0.95259665 0.93142318 0.74070221 0.72940606\n",
      " 0.70914596 0.68116182 0.64734256 0.60958481]\n",
      "\n",
      " Day 6 output [[0.5695117]]\n",
      "\n",
      " Day 7 input \n",
      " [0.81523225 0.80480349 0.82966401 0.84799321 0.85125887 0.85778995\n",
      " 0.88675866 0.88760144 0.86579582 0.88781207 0.89160431 0.88243972\n",
      " 0.87738331 0.84219946 0.82681973 0.81249341 0.78794896 0.78141788\n",
      " 0.80006315 0.77720425 0.80448754 0.81417884 0.7992205  0.80037922\n",
      " 0.79332144 0.80680499 0.78078586 0.79290005 0.8275572  0.8671653\n",
      " 0.84809865 0.85231228 0.86379432 0.88412514 0.90108498 0.90340256\n",
      " 0.88465185 0.89107761 0.89760881 0.89118292 0.91446334 0.93352999\n",
      " 0.97608769 0.97903716 0.95839039 0.94901504 0.9305804  0.94806695\n",
      " 0.9457495  0.9442747  0.95196463 0.9422732  0.94438002 0.96239339\n",
      " 0.96597488 0.96186669 0.96439477 0.96428945 0.95143793 0.96334136\n",
      " 0.96218264 0.98272409 0.96513223 0.96112923 0.97082065 0.98103866\n",
      " 0.97377012 0.98156536 1.         0.97987994 0.95333398 0.95565156\n",
      " 0.95565156 0.93237127 0.93237127 0.891499   0.94016639 0.9502792\n",
      " 0.94848833 0.9711366  0.9751396  0.97197938 0.97240077 0.95723167\n",
      " 0.95702091 0.94764568 0.96249871 0.9360582  0.93932374 0.93553149\n",
      " 0.94648683 0.95259665 0.93142318 0.74070221 0.72940606 0.70914596\n",
      " 0.68116182 0.64734256 0.60958481 0.56951171]\n",
      "\n",
      " Day 7 output [[0.5284007]]\n",
      "\n",
      "[[0.740702211856842], [0.7294060587882996], [0.7091459631919861], [0.6811618208885193], [0.6473425626754761], [0.6095848083496094], [0.5695117115974426], [0.528400719165802]]\n"
     ]
    }
   ],
   "source": [
    "# demonstrate prediction for next 7 days\n",
    "from numpy import array\n",
    "\n",
    "lst_output=[]\n",
    "n_steps=100\n",
    "i=0\n",
    "while(i<=7):\n",
    "    \n",
    "    if(len(temp_input)>100):\n",
    "        #print(temp_input)\n",
    "        x_input=np.array(temp_input[1:])\n",
    "        print(\" Day {} input \\n {}\\n\".format(i,x_input))\n",
    "        x_input=x_input.reshape(1,-1)\n",
    "        x_input = x_input.reshape((1, n_steps, 1))\n",
    "        #print(x_input)\n",
    "        yhat = model.predict(x_input, verbose=0)\n",
    "        print(\" Day {} output {}\\n\".format(i,yhat))\n",
    "        temp_input.extend(yhat[0].tolist())\n",
    "        temp_input=temp_input[1:]\n",
    "        #print(temp_input)\n",
    "        lst_output.extend(yhat.tolist())\n",
    "        i=i+1\n",
    "    else:\n",
    "        x_input = x_input.reshape((1, n_steps,1))\n",
    "        yhat = model.predict(x_input, verbose=0)\n",
    "        print(yhat[0])\n",
    "        temp_input.extend(yhat[0].tolist())\n",
    "        print(len(temp_input))\n",
    "        lst_output.extend(yhat.tolist())\n",
    "        i=i+1\n",
    "    \n",
    "\n",
    "print(lst_output)"
   ]
  },
  {
   "cell_type": "code",
   "execution_count": 43,
   "id": "bbfa654f-aa33-4db4-98ae-84cf7785c6f7",
   "metadata": {},
   "outputs": [],
   "source": [
    "day_new=np.arange(1,101)\n",
    "day_pred=np.arange(101,109)"
   ]
  },
  {
   "cell_type": "code",
   "execution_count": 44,
   "id": "bab420c6-8f25-4d4f-b844-eb3a407602c0",
   "metadata": {},
   "outputs": [
    {
     "name": "stdout",
     "output_type": "stream",
     "text": [
      "[101 102 103 104 105 106 107 108]\n",
      "[  1   2   3   4   5   6   7   8   9  10  11  12  13  14  15  16  17  18\n",
      "  19  20  21  22  23  24  25  26  27  28  29  30  31  32  33  34  35  36\n",
      "  37  38  39  40  41  42  43  44  45  46  47  48  49  50  51  52  53  54\n",
      "  55  56  57  58  59  60  61  62  63  64  65  66  67  68  69  70  71  72\n",
      "  73  74  75  76  77  78  79  80  81  82  83  84  85  86  87  88  89  90\n",
      "  91  92  93  94  95  96  97  98  99 100]\n"
     ]
    }
   ],
   "source": [
    "print(day_pred),\n",
    "print(day_new)"
   ]
  },
  {
   "cell_type": "code",
   "execution_count": 45,
   "id": "5778948f-6d35-4f5b-b202-e18733e54687",
   "metadata": {},
   "outputs": [
    {
     "data": {
      "text/plain": [
       "1248"
      ]
     },
     "execution_count": 45,
     "metadata": {},
     "output_type": "execute_result"
    }
   ],
   "source": [
    "len(df1)"
   ]
  },
  {
   "cell_type": "code",
   "execution_count": 46,
   "id": "ecd2c7db-433b-480d-9ec0-41f477c7c4c0",
   "metadata": {},
   "outputs": [
    {
     "data": {
      "text/plain": [
       "[<matplotlib.lines.Line2D at 0x269afcec100>]"
      ]
     },
     "execution_count": 46,
     "metadata": {},
     "output_type": "execute_result"
    },
    {
     "data": {
      "image/png": "[encoded data removed]",
      "text/plain": [
       "<Figure size 432x288 with 1 Axes>"
      ]
     },
     "metadata": {
      "needs_background": "light"
     },
     "output_type": "display_data"
    }
   ],
   "source": [
    "plt.plot(day_new,scaler.inverse_transform(df1[1148:]))\n",
    "plt.plot(day_pred,scaler.inverse_transform(lst_output))"
   ]
  },
  {
   "cell_type": "code",
   "execution_count": 53,
   "id": "e1ae5a07-6259-4d4b-8037-69642b3deae7",
   "metadata": {},
   "outputs": [
    {
     "data": {
      "text/plain": [
       "[<matplotlib.lines.Line2D at 0x269b03554c0>]"
      ]
     },
     "execution_count": 53,
     "metadata": {},
     "output_type": "execute_result"
    },
    {
     "data": {
      "image/png": "[encoded data removed]",
      "text/plain": [
       "<Figure size 432x288 with 1 Axes>"
      ]
     },
     "metadata": {
      "needs_background": "light"
     },
     "output_type": "display_data"
    }
   ],
   "source": [
    "df3=df1.tolist()\n",
    "df3.extend(lst_output)\n",
    "plt.plot(df3[1200:])"
   ]
  },
  {
   "cell_type": "code",
   "execution_count": 50,
   "id": "37919e0c-9b23-4e86-87fb-a9a1ea6ddbc6",
   "metadata": {},
   "outputs": [],
   "source": [
    "df4 = scaler.inverse_transform(lst_output).tolist()"
   ]
  },
  {
   "cell_type": "code",
   "execution_count": 51,
   "id": "30e20898-e6ea-4c95-8b90-9b7973b27a35",
   "metadata": {},
   "outputs": [
    {
     "data": {
      "text/plain": [
       "[<matplotlib.lines.Line2D at 0x269b028d070>]"
      ]
     },
     "execution_count": 51,
     "metadata": {},
     "output_type": "execute_result"
    },
    {
     "data": {
      "image/png": "[encoded data removed]",
      "text/plain": [
       "<Figure size 432x288 with 1 Axes>"
      ]
     },
     "metadata": {
      "needs_background": "light"
     },
     "output_type": "display_data"
    }
   ],
   "source": [
    "plt.plot(df4)"
   ]
  },
  {
   "cell_type": "code",
   "execution_count": null,
   "id": "185dcb94-dced-4580-9204-fe30512db32a",
   "metadata": {},
   "outputs": [],
   "source": []
  }
 ],
 "metadata": {
  "kernelspec": {
   "display_name": "Python 3 (ipykernel)",
   "language": "python",
   "name": "python3"
  },
  "language_info": {
   "codemirror_mode": {
    "name": "ipython",
    "version": 3
   },
   "file_extension": ".py",
   "mimetype": "text/x-python",
   "name": "python",
   "nbconvert_exporter": "python",
   "pygments_lexer": "ipython3",
   "version": "3.9.9"
  }
 },
 "nbformat": 4,
 "nbformat_minor": 5
}
